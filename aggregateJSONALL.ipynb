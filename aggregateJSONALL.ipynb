{
 "cells": [
  {
   "cell_type": "code",
   "execution_count": null,
   "metadata": {
    "collapsed": false
   },
   "outputs": [],
   "source": [
    "import json\n",
    "import numpy\n",
    "import pandas as pd\n",
    "\n",
    "# folder where the data is stored\n",
    "path = \"D:\\JSON\\Data\\\\\"\n",
    "\n",
    "# the regions we have data on\n",
    "regions = ['euw','jp','kr','na']\n",
    "\n",
    "# corresponding number of files for each region (remember indexed from 0)\n",
    "filesizes = [10000,10000,10000,10000]\n",
    "\n",
    "# number of files that will be contained in aggregated file\n",
    "totalsize = sum(filesizes)\n",
    "\n",
    "# name of output file\n",
    "filename = path+\"ALL\"+str(totalsize)+\"aggregated.pkl\"\n",
    "\n",
    "# all the different information available\n",
    "axes = ['mapId', 'matchCreation', 'matchDuration', 'matchId', 'matchMode',\n",
    "        'matchType', 'matchVersion', 'participantIdentities', 'participants',\n",
    "        'platformId', 'queueType', 'region', 'season', 'teams', 'timeline']\n",
    "\n",
    "# the information you want to strip out in the aggregated file\n",
    "unwanted = ['participantIdentities','platformId','timeline']\n",
    "wanted = [x for x in axes if x not in unwanted]\n",
    "\n",
    "# create empty dataframe with columns we want\n",
    "df = pd.DataFrame(columns = wanted)\n",
    "\n",
    "# loop over all the data, strip out the info that we aren't interested in\n",
    "# and append it in to the dataframe\n",
    "for region,filesize in zip(regions,filesizes):\n",
    "    print(region)\n",
    "    for i in range(filesize):\n",
    "        dataName = \"D:\\JSON\\Data\\data_\"+region+str(i)+\".json\"\n",
    "        data = pd.read_json(dataName,typ=\"series\")\n",
    "        data = data.drop(unwanted)\n",
    "        df = df.append(data,ignore_index=True)\n",
    "        \n",
    "# remove duplicates and clean up\n",
    "df = df.drop_duplicates(subset=['matchId','region'])\n",
    "df = df.reset_index()\n",
    "# save dataframe as pickle\n",
    "df.to_pickle(filename)"
   ]
  }
 ],
 "metadata": {
  "anaconda-cloud": {},
  "kernelspec": {
   "display_name": "Python [conda root]",
   "language": "python",
   "name": "conda-root-py"
  },
  "language_info": {
   "codemirror_mode": {
    "name": "ipython",
    "version": 3
   },
   "file_extension": ".py",
   "mimetype": "text/x-python",
   "name": "python",
   "nbconvert_exporter": "python",
   "pygments_lexer": "ipython3",
   "version": "3.5.2"
  }
 },
 "nbformat": 4,
 "nbformat_minor": 1
}
